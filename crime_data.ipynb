{
  "nbformat": 4,
  "nbformat_minor": 0,
  "metadata": {
    "kernelspec": {
      "display_name": "Python 3",
      "language": "python",
      "name": "python3"
    },
    "language_info": {
      "codemirror_mode": {
        "name": "ipython",
        "version": 3
      },
      "file_extension": ".py",
      "mimetype": "text/x-python",
      "name": "python",
      "nbconvert_exporter": "python",
      "pygments_lexer": "ipython3",
      "version": "3.7.4"
    },
    "colab": {
      "name": "crime_data.ipynb",
      "provenance": [],
      "collapsed_sections": [],
      "toc_visible": true
    }
  },
  "cells": [
    {
      "cell_type": "markdown",
      "metadata": {
        "id": "UPiYOXplAbuC",
        "colab_type": "text"
      },
      "source": [
        "### Import your Google Drive!\n",
        "In \"Shared Files\" (*Gedeelde bestanden*), select the *datascience_c2_crime_data* folder.\n",
        "\n",
        "**Right click** the folder, and select *Add to Drive* (Toevoegen aan mijn Drive).\n",
        "\n",
        "**Run** the code below to import your Drive into the virtual Linux machine.\n",
        "\n",
        "The data is available in \"/content/drive/My Drive/datascience_c2_crime_data/\"."
      ]
    },
    {
      "cell_type": "code",
      "metadata": {
        "id": "fdIPZVL6-tMn",
        "colab_type": "code",
        "outputId": "136f346b-dff3-4e9e-ed2b-29593761adf0",
        "colab": {
          "base_uri": "https://localhost:8080/",
          "height": 35
        }
      },
      "source": [
        "# Import your Google Drive data in here:\n",
        "# From \"Shared Files\", select the datascience_c2_crime_data folder,\n",
        "# Right Click -> Add to Drive\n",
        "from google.colab import drive\n",
        "drive.mount('/content/drive')"
      ],
      "execution_count": 0,
      "outputs": [
        {
          "output_type": "stream",
          "text": [
            "Drive already mounted at /content/drive; to attempt to forcibly remount, call drive.mount(\"/content/drive\", force_remount=True).\n"
          ],
          "name": "stdout"
        }
      ]
    },
    {
      "cell_type": "code",
      "metadata": {
        "colab_type": "code",
        "id": "oIpk2t3ZT2Zy",
        "colab": {}
      },
      "source": [
        "from google.colab import drive\n",
        "drive.mount('/content/drive')"
      ],
      "execution_count": 0,
      "outputs": []
    },
    {
      "cell_type": "markdown",
      "metadata": {
        "id": "MSNBOwzvSk9m",
        "colab_type": "text"
      },
      "source": [
        "# Inladen van de data\n",
        "\n"
      ]
    },
    {
      "cell_type": "markdown",
      "metadata": {
        "id": "LFCSt2xPAQ3K",
        "colab_type": "text"
      },
      "source": [
        "**Run** the code below to import data:\n",
        "\n",
        "*If you've done it correctly you can see the dataframe.*"
      ]
    },
    {
      "cell_type": "code",
      "metadata": {
        "id": "VZFdhRIS230v",
        "colab_type": "code",
        "colab": {}
      },
      "source": [
        "import pandas as pd\n",
        "import seaborn as sns\n",
        "import matplotlib.pyplot as plt\n",
        "\n",
        "crime_data = pd.read_csv('/content/drive/My Drive/datascience_c2_crime_data/crime.csv')\n",
        "offense_codes = pd.read_csv('/content/drive/My Drive/datascience_c2_crime_data/offense_codes.csv')"
      ],
      "execution_count": 0,
      "outputs": []
    },
    {
      "cell_type": "markdown",
      "metadata": {
        "id": "PGvOCrbuBSeu",
        "colab_type": "text"
      },
      "source": [
        "# Data understanding\n",
        "\n"
      ]
    },
    {
      "cell_type": "code",
      "metadata": {
        "id": "MrkFYo4rIN-d",
        "colab_type": "code",
        "outputId": "c56bce30-3b5c-4bf6-da2c-8c1bd69a9584",
        "colab": {
          "base_uri": "https://localhost:8080/",
          "height": 182
        }
      },
      "source": [
        "offense_codes.dtypes"
      ],
      "execution_count": 0,
      "outputs": [
        {
          "output_type": "execute_result",
          "data": {
            "text/plain": [
              "OFFENSE_CODE               int64\n",
              "OFFENSE_CODE_EXTENSION     int64\n",
              "OFFENSE_TYPE_ID           object\n",
              "OFFENSE_TYPE_NAME         object\n",
              "OFFENSE_CATEGORY_ID       object\n",
              "OFFENSE_CATEGORY_NAME     object\n",
              "IS_CRIME                   int64\n",
              "IS_TRAFFIC                 int64\n",
              "dtype: object"
            ]
          },
          "metadata": {
            "tags": []
          },
          "execution_count": 21
        }
      ]
    },
    {
      "cell_type": "code",
      "metadata": {
        "id": "1yRdJqwnB8AT",
        "colab_type": "code",
        "outputId": "d82cc239-c588-4479-9f22-1579595f65c2",
        "colab": {
          "base_uri": "https://localhost:8080/",
          "height": 297
        }
      },
      "source": [
        "from seaborn import scatterplot\n",
        "\n",
        "scatterplot(data=crime_data,x='GEO_LAT',y='GEO_LON')"
      ],
      "execution_count": 0,
      "outputs": [
        {
          "output_type": "execute_result",
          "data": {
            "text/plain": [
              "<matplotlib.axes._subplots.AxesSubplot at 0x7efd2b804e80>"
            ]
          },
          "metadata": {
            "tags": []
          },
          "execution_count": 16
        },
        {
          "output_type": "display_data",
          "data": {
            "image/png": "[encoded data removed]",
            "text/plain": [
              "<Figure size 432x288 with 1 Axes>"
            ]
          },
          "metadata": {
            "tags": []
          }
        }
      ]
    },
    {
      "cell_type": "code",
      "metadata": {
        "id": "5TmZFyzCKkfl",
        "colab_type": "code",
        "outputId": "edde2cad-ce34-430f-9064-654ec1e6b80c",
        "colab": {
          "base_uri": "https://localhost:8080/",
          "height": 182
        }
      },
      "source": [
        "crime_data1 = crime_data[['NEIGHBORHOOD_ID', 'OFFSENSE_CODE', 'REPORTED_DATE']]\n",
        "crime_data1.plot"
      ],
      "execution_count": 0,
      "outputs": [
        {
          "output_type": "error",
          "ename": "TypeError",
          "evalue": "ignored",
          "traceback": [
            "\u001b[0;31m---------------------------------------------------------------------------\u001b[0m",
            "\u001b[0;31mTypeError\u001b[0m                                 Traceback (most recent call last)",
            "\u001b[0;32m<ipython-input-9-5d7f598d6eb3>\u001b[0m in \u001b[0;36m<module>\u001b[0;34m()\u001b[0m\n\u001b[0;32m----> 1\u001b[0;31m \u001b[0mcrime_data1\u001b[0m \u001b[0;34m=\u001b[0m \u001b[0mcrime_data\u001b[0m\u001b[0;34m[\u001b[0m\u001b[0;34m[\u001b[0m\u001b[0;34m'NEIGHBORHOOD_ID'\u001b[0m\u001b[0;34m,\u001b[0m \u001b[0;34m'OFFSENSE_CODE'\u001b[0m\u001b[0;34m,\u001b[0m \u001b[0;34m'REPORTED_DATE'\u001b[0m\u001b[0;34m]\u001b[0m\u001b[0;34m]\u001b[0m\u001b[0;34m\u001b[0m\u001b[0;34m\u001b[0m\u001b[0m\n\u001b[0m\u001b[1;32m      2\u001b[0m \u001b[0mcrime_data1\u001b[0m\u001b[0;34m.\u001b[0m\u001b[0mplot\u001b[0m\u001b[0;34m\u001b[0m\u001b[0;34m\u001b[0m\u001b[0m\n",
            "\u001b[0;31mTypeError\u001b[0m: list indices must be integers or slices, not list"
          ]
        }
      ]
    },
    {
      "cell_type": "code",
      "metadata": {
        "id": "UU78xRoSVENL",
        "colab_type": "code",
        "outputId": "d09aaf76-4f5b-4500-98fb-5f139d63f57b",
        "colab": {
          "base_uri": "https://localhost:8080/",
          "height": 162
        }
      },
      "source": [
        "crime_data1.plot"
      ],
      "execution_count": 0,
      "outputs": [
        {
          "output_type": "error",
          "ename": "NameError",
          "evalue": "ignored",
          "traceback": [
            "\u001b[0;31m---------------------------------------------------------------------------\u001b[0m",
            "\u001b[0;31mNameError\u001b[0m                                 Traceback (most recent call last)",
            "\u001b[0;32m<ipython-input-1-436f9a6ab707>\u001b[0m in \u001b[0;36m<module>\u001b[0;34m()\u001b[0m\n\u001b[0;32m----> 1\u001b[0;31m \u001b[0mcrime_data1\u001b[0m\u001b[0;34m.\u001b[0m\u001b[0mplot\u001b[0m\u001b[0;34m\u001b[0m\u001b[0;34m\u001b[0m\u001b[0m\n\u001b[0m",
            "\u001b[0;31mNameError\u001b[0m: name 'crime_data1' is not defined"
          ]
        }
      ]
    },
    {
      "cell_type": "code",
      "metadata": {
        "id": "JX2UOBgRVJS1",
        "colab_type": "code",
        "colab": {}
      },
      "source": [
        ""
      ],
      "execution_count": 0,
      "outputs": []
    },
    {
      "cell_type": "markdown",
      "metadata": {
        "id": "TTFroq1zVdrs",
        "colab_type": "text"
      },
      "source": [
        "Dit is een test"
      ]
    }
  ]
}